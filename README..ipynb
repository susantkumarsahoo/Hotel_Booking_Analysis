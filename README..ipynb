{
 "cells": [
  {
   "cell_type": "markdown",
   "id": "007f1155",
   "metadata": {},
   "source": [
    "# Hotel Bookings Exploratory Data Analysis\n"
   ]
  },
  {
   "cell_type": "markdown",
   "id": "f80fa27d",
   "metadata": {},
   "source": [
    "# Objective"
   ]
  },
  {
   "cell_type": "markdown",
   "id": "35c4c477",
   "metadata": {},
   "source": [
    "We are provided with a hotel bookings dataset.\n",
    "\n",
    "Out main objective is perform EDA on the given dataset and draw useful conclusions about general trends in hotel bookings and how factors governing hotel bookings interact with each other."
   ]
  },
  {
   "cell_type": "markdown",
   "id": "085a1aee",
   "metadata": {},
   "source": [
    "# Dataset"
   ]
  },
  {
   "cell_type": "markdown",
   "id": "4837aa8c",
   "metadata": {},
   "source": [
    "We are given a hotel bookings dataset. This dataset contains booking information for a city hotel and a resort hotel. It contains the following features.\n",
    "\n",
    "- hotel: Name of hotel ( City or Resort)\n",
    "- is_canceled: Whether the booking is canceled or not (0 for no canceled and 1 for canceled)\n",
    "- lead_time: time (in days) between booking transaction and actual arrival.\n",
    "- arrival_date_year: Year of arrival\n",
    "- arrival_date_month: month of arrival\n",
    "- arrival_date_week_number: week number of arrival date.\n",
    "- arrival_date_day_of_month: Day of month of arrival date\n",
    "- stays_in_weekend_nights: No. of weekend nights spent in a hotel\n",
    "- stays_in_week_nights: No. of weeknights spent in a hotel\n",
    "- adults: No. of adults in single booking record.\n",
    "- children: No. of children in single booking record.\n",
    "- babies: No. of babies in single booking record. \n",
    "- meal: Type of meal chosen \n",
    "- country: Country of origin of customers (as mentioned by them)\n",
    "- market_segment: What segment via booking was made and for what purpose.\n",
    "- distribution_channel: Via which medium booking was made.\n",
    "- is_repeated_guest: Whether the customer has made any booking before(0 for No and 1 for \n",
    "                     Yes)\n",
    "- previous_cancellations: No. of previous canceled bookings.\n",
    "- previous_bookings_not_canceled: No. of previous non-canceled bookings.\n",
    "- reserved_room_type: Room type reserved by a customer.\n",
    "- assigned_room_type: Room type assigned to the customer.\n",
    "- booking_changes: No. of booking changes done by customers\n",
    "- deposit_type: Type of deposit at the time of making a booking (No deposit/ Refundable/ No refund)\n",
    "- agent: Id of agent for booking\n",
    "- company: Id of the company making a booking\n",
    "- days_in_waiting_list: No. of days on waiting list.\n",
    "- customer_type: Type of customer(Transient, Group, etc.)\n",
    "- adr: Average Daily rate.\n",
    "- required_car_parking_spaces: No. of car parking asked in booking\n",
    "- total_of_special_requests: total no. of special request.\n",
    "- reservation_status: Whether a customer has checked out or canceled,or not showed \n",
    "- reservation_status_date: Date of making reservation status.\n",
    "Total number of rows in data: 119390\n",
    "Total number of columns: 32"
   ]
  },
  {
   "cell_type": "markdown",
   "id": "d2e86071",
   "metadata": {},
   "source": [
    "# Data Cleaning and Feature Engineering\n"
   ]
  },
  {
   "cell_type": "markdown",
   "id": "ce2c4784",
   "metadata": {},
   "source": [
    "# (1) Removing Duplicate rows\n"
   ]
  },
  {
   "cell_type": "markdown",
   "id": "0098a583",
   "metadata": {},
   "source": [
    "All duplicate rows were dropped.\n",
    "\n"
   ]
  },
  {
   "cell_type": "markdown",
   "id": "982738bd",
   "metadata": {},
   "source": [
    "# (2) Handling null values\n"
   ]
  },
  {
   "cell_type": "code",
   "execution_count": null,
   "id": "9e730187",
   "metadata": {},
   "outputs": [],
   "source": [
    "# Null values in columns company and agent were replaced by 0.\n",
    "# Null values in column country were replaced by 'others'.\n",
    "# Null values in column children were replaced by the mean of the column."
   ]
  },
  {
   "cell_type": "markdown",
   "id": "1a197788",
   "metadata": {},
   "source": [
    "# (3) Converting columns to appropriate data types\n"
   ]
  },
  {
   "cell_type": "markdown",
   "id": "7366f0a8",
   "metadata": {},
   "source": [
    "Changed data type of children, company, agent to int type.\n",
    "Changed data type of reservation_status_date to date type."
   ]
  },
  {
   "cell_type": "markdown",
   "id": "44f43176",
   "metadata": {},
   "source": [
    "# (4) Removing outliers\n"
   ]
  },
  {
   "cell_type": "markdown",
   "id": "50c4ac52",
   "metadata": {},
   "source": [
    "One outlier was found in the adr column. Simply dropped it."
   ]
  },
  {
   "cell_type": "markdown",
   "id": "033e6419",
   "metadata": {},
   "source": [
    "# Exploratory Data Analysis"
   ]
  },
  {
   "cell_type": "markdown",
   "id": "3b95fae2",
   "metadata": {},
   "source": [
    "Performed EDA and tried answering the following questions:\n",
    "\n",
    "\n",
    "\n",
    " Q1) Which agent makes the most no. of bookings?\n",
    " Q2) Which room type is in most demand and which room type generatesthe  highest adr?\n",
    " Q3) Which meal type isthe  most preffered meal of customers?\n",
    " Q4) What isthe  percentage of bookings in each hotel?\n",
    " Q5) Which is the most common channel for booking hotels?\n",
    " Q6) Which are the most busy months?\n",
    " Q7) From which country most of the guests are comin ?\n",
    " Q8) How long do people stay at the hotels?\n",
    " Q9)  Which hotel seems to make more revenue?\n",
    " Q10)  Which hotel hasa  higher lead time?\n",
    " Q11)  What is preferred stay length in each hotel?\n",
    " Q12)  Which hotel has higher bookings cancellation rate.\n",
    " Q13)  Which hotel hasa  high chance that its customer will return for another stay?\n",
    " Q14)  Which channel is mostly used forthe  early booking of hotels?\n",
    " Q15)  Which channel hasa  longer average waiting time?\n",
    " Q16)  Which distribution channel brings betterrevenue-generatingg deals for hotels?\n",
    " Q17)  Which significant distribution channel has the highest cancellation percentage?\n",
    " Q18) Doesa  longer waiting period or longer lead time causes the cancellation of bookings?\n",
    " Q19) Whether not getting allotted the same room type as demand is the main cause of cancellation for bookings?\n",
    " Q20) Does not alloting the  same room as demanded affect adr? \n",
    " Q21) What is the trend of bookings within a month?\n",
    " Q22) Which types of customers mostly make bookings?\n",
    "\n",
    "Mainly performed using Matplotlib and Seaborn library and the following graph and plots had been used:\n",
    "\n",
    "Bar Plot.\n",
    "Histogram.\n",
    "Scatter Plot.\n",
    "Pie Chart.\n",
    "Line Plot.\n"
   ]
  },
  {
   "cell_type": "markdown",
   "id": "6ad5a16e",
   "metadata": {},
   "source": [
    "# Bivariate Analysis :\n"
   ]
  },
  {
   "cell_type": "markdown",
   "id": "39c41bd9",
   "metadata": {},
   "source": [
    "We tried to answer following questions\n",
    "\n",
    "\n",
    "1.) Overall adr of City hotel is slightly higher than Resort hotel and no. of bookings of City hotel is also higher than Resort     hotel. Hence, City hotel is makes more revenue.\n",
    " 2.) City hotel has slightly higher median lead time. Also median lead time is significantly higher for both hotels, this means customers generally plan their hotel   visits way early.\n",
    " 3.) Almost 30 % of City Hotel bookings got canceled.\n",
    " 4.) Both hotels have very small percentage that customer will repeat, but Resort hotel has slightly higher repeat % than City Hotel.\n",
    " 5.) TA/TO is mostly used for planning Hotel visits well ahead of time. \n",
    " 6.) While booking via TA/TO one may have to wait a little longer to confirm booking of rooms.\n",
    " 7.) GDS channel brings higher revenue generating deals for City hotel, in contrast to that most bookings come via TA/TO. City Hotel can work to increase outreach on GDS channels to get more higher revenue generating deals.\n",
    " 8.) TA/TO has highest booking cancellation %. Therefore, a booking via TA/TO is 30% likely to get cancelled.\n",
    " 9.) Longer lead time has no affect on cancellation of bookings.\n",
    " 10.) Not getting same room as demanded is not the case of cancellation of rooms. A significant percentage of bookings are not cancelled even after getting different room as demanded.\n",
    " 11.) Not getting same room do affects the adr, people who didn't got same room have paid a little lower adr. \n",
    " 12.) Arrivals in hotels increases at weekends and also the avg adr tends to go up as month ends. \n",
    " 13.)Moslty bookings are done by couples(bookings have two adults.)"
   ]
  },
  {
   "cell_type": "markdown",
   "id": "f4e6a2a0",
   "metadata": {},
   "source": [
    "# Conclusion"
   ]
  },
  {
   "cell_type": "markdown",
   "id": "6de25247",
   "metadata": {},
   "source": [
    "(1) Around 60% bookings are for City hotel and 40% bookings are for Resort hotel, therefore City Hotel is busier than Resort hotel. Also the overall adr of City hotel is slightly higher than Resort hotel.\n",
    "(2) Mostly guests stay for less than 5 days in hotel and for longer stays Resort hotel is preferred.\n",
    "(3) Both hotels have significantly higher booking cancellation rates and very few guests less than 3 % return for another booking in City hotel. 5% guests return for stay in Resort hotel.\n",
    "(4) Most of the guests came from european countries, with most of guests coming from Portugal.\n",
    "(5) Guests use different channels for making bookings out of which most preferred way is TA/TO.\n",
    "(6) For hotels higher adr deals come via GDS channel, so hotels should increase their popularity on this channel.\n",
    "(7) Almost 30% of bookings via TA/TO are cancelled.\n",
    "(8) Not getting same room as reserved, longer lead time and waiting time do not affect cancellation of bookings. Although different room allotment do lowers the adr.\n",
    "(9) July- August are the most busier and profitable months for both of hotels. \n",
    "(10) Within a month, adr gradually increases as month ends, with small sudden rise on weekends.\n",
    "(11) Couples are the most common guests for hotels, hence hotels can plan services according to couples needs to increase revenue.\n",
    "(12) More number of people in guests results in more number of special requests.\n",
    "(13) Bookings made via complementary market segment and adults have on average high no. of special request.\n",
    "(14) For customers, generally the longer stays (more than 15 days) can result in better deals in terms of low adr.\n",
    "\n",
    "And many more conclusions."
   ]
  },
  {
   "cell_type": "markdown",
   "id": "966b8432",
   "metadata": {},
   "source": [
    "# Challenges"
   ]
  },
  {
   "cell_type": "markdown",
   "id": "97be5d81",
   "metadata": {},
   "source": [
    "(1) There was a lot of duplicate data.\n",
    "(2) Data was present in wrong datatype format.\n",
    "(3) Choosing appropriate visualization techniques to use was difficult.\n",
    "(4) A lot of null values were there in the dataset.\n"
   ]
  }
 ],
 "metadata": {
  "kernelspec": {
   "display_name": "Python 3 (ipykernel)",
   "language": "python",
   "name": "python3"
  },
  "language_info": {
   "codemirror_mode": {
    "name": "ipython",
    "version": 3
   },
   "file_extension": ".py",
   "mimetype": "text/x-python",
   "name": "python",
   "nbconvert_exporter": "python",
   "pygments_lexer": "ipython3",
   "version": "3.10.9"
  }
 },
 "nbformat": 4,
 "nbformat_minor": 5
}
